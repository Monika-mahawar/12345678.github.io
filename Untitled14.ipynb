{
  "nbformat": 4,
  "nbformat_minor": 0,
  "metadata": {
    "colab": {
      "provenance": [],
      "authorship_tag": "ABX9TyOVinZ28b2AQfzPOPMcqIV8",
      "include_colab_link": true
    },
    "kernelspec": {
      "name": "python3",
      "display_name": "Python 3"
    },
    "language_info": {
      "name": "python"
    }
  },
  "cells": [
    {
      "cell_type": "markdown",
      "metadata": {
        "id": "view-in-github",
        "colab_type": "text"
      },
      "source": [
        "<a href=\"https://colab.research.google.com/github/b23ci1024/12345678.github.io/blob/main/Untitled14.ipynb\" target=\"_parent\"><img src=\"https://colab.research.google.com/assets/colab-badge.svg\" alt=\"Open In Colab\"/></a>"
      ]
    },
    {
      "cell_type": "code",
      "source": [
        "from PIL import Image\n",
        "import matplotlib.pyplot as plt\n",
        "\n",
        "# Load the image\n",
        "img_path = '/mnt/data/project.png'\n",
        "img = Image.open('/content/project.png')\n",
        "\n",
        "# Display the image\n",
        "plt.imshow(img)\n",
        "plt.axis('off')  # Hide axes\n",
        "plt.title(\"Beam Load Diagram\")\n",
        "plt.show()\n",
        "\n"
      ],
      "metadata": {
        "colab": {
          "base_uri": "https://localhost:8080/",
          "height": 269
        },
        "id": "wWfyZgPi4kx4",
        "outputId": "def9942d-49b2-43d7-8820-c0b687aa8785"
      },
      "execution_count": 22,
      "outputs": [
        {
          "output_type": "display_data",
          "data": {
            "text/plain": [
              "<Figure size 640x480 with 1 Axes>"
            ],
            "image/png": "[encoded data removed]"
          },
          "metadata": {}
        }
      ]
    },
    {
      "source": [
        "\n",
        "# analyze_ss_movingload.py\n",
        "\n",
        "import numpy as np\n",
        "\n",
        "def analyze_beam(L, W1, W2, x_dist):\n",
        "    \"\"\"\n",
        "    Analyzes a simply supported beam subjected to two moving point loads.\n",
        "\n",
        "    Parameters:\n",
        "    - L (float): Beam length in meters\n",
        "    - W1 (float): First moving load in kN\n",
        "    - W2 (float): Second moving load in kN\n",
        "    - x_dist (float): Distance between W1 and W2 in meters\n",
        "\n",
        "    Returns:\n",
        "    Dictionary with:\n",
        "        - Maximum Reaction at A and B\n",
        "        - Bending Moment at W1 = 0\n",
        "        - Shear Force at midspan (L/2)\n",
        "        - Maximum Shear Force and Bending Moment with values\n",
        "    \"\"\"\n",
        "    step = 0.01  # Resolution for moving load\n",
        "    positions = np.arange(0, L - x_dist + step, step)\n",
        "    mid = L / 2  # Midpoint of beam\n",
        "\n",
        "    # Arrays to store values at each load position\n",
        "    RA_list, RB_list, BM_list, SF_list = [], [], [], []\n",
        "\n",
        "    for pos in positions:\n",
        "        a1 = pos\n",
        "        a2 = pos + x_dist\n",
        "\n",
        "        # Calculate reactions using statics\n",
        "        RA = (W1 * (L - a1) + W2 * (L - a2)) / L\n",
        "        RB = (W1 * a1 + W2 * a2) / L\n",
        "\n",
        "        # Bending Moment at midspan\n",
        "        BM = RA * mid\n",
        "        if a1 < mid:\n",
        "            BM -= W1 * (mid - a1)\n",
        "        if a2 < mid:\n",
        "            BM -= W2 * (mid - a2)\n",
        "\n",
        "        # Shear Force at midspan\n",
        "        SF = RA\n",
        "        if a1 < mid:\n",
        "            SF -= W1\n",
        "        if a2 < mid:\n",
        "            SF -= W2\n",
        "\n",
        "        # Store values\n",
        "        RA_list.append(RA)\n",
        "        RB_list.append(RB)\n",
        "        BM_list.append(BM)\n",
        "        SF_list.append(SF)\n",
        "\n",
        "    # Maximum Reactions\n",
        "    max_RA = max(RA_list)\n",
        "    max_RB = max(RB_list)\n",
        "\n",
        "    # Bending Moment when W1 is at 0\n",
        "    a1 = 0\n",
        "    a2 = x_dist\n",
        "    RA_01 = (W1 * (L - a1) + W2 * (L - a2)) / L\n",
        "    BM_01 = 0  # W1 is at 0 → no moment at that point\n",
        "\n",
        "    # Shear Force at midspan (L/2) with W1 and W2 on either side\n",
        "    a1 = mid - x_dist / 2\n",
        "    a2 = mid + x_dist / 2\n",
        "    RA_mid = (W1 * (L - a1) + W2 * (L - a2)) / L\n",
        "    SF_01 = RA_mid\n",
        "    if a1 < mid:\n",
        "        SF_01 -= W1\n",
        "    if a2 < mid:\n",
        "        SF_01 -= W2\n",
        "\n",
        "    # Maximum shear force and bending moment\n",
        "    SF_max = max(SF_list)\n",
        "    BM_max = max(BM_list)\n",
        "\n",
        "    return {\n",
        "        \"Maximum Reaction at A (kN)\": round(max_RA, 2),\n",
        "        \"Maximum Reaction at B (kN)\": round(max_RB, 2),\n",
        "        \"Bending Moment BM_01 (kNm)\": round(BM_01, 2),\n",
        "        \"Shear Force SF_01 (kN)\": round(SF_01, 2),\n",
        "        \"Maximum Shear Force SF_max (kN)\": round(SF_max, 2),\n",
        "        \"Maximum Bending Moment BM_max (kNm)\": round(BM_max, 2)\n",
        "    }\n",
        "\n",
        "\n",
        "if __name__ == \"__main__\":  #Corrected indentation\n",
        "    print(\"Simply Supported Beam - Moving Load Analysis\")\n",
        "\n",
        "    # Take user input\n",
        "    L = float(input(\"Enter beam length (m): \"))\n",
        "    W1 = float(input(\"Enter load W1 (kN): \"))\n",
        "    W2 = float(input(\"Enter load W2 (kN): \"))\n",
        "    x = float(input(\"Enter distance between W1 and W2 (m): \"))\n",
        "\n",
        "    # Perform analysis\n",
        "    results = analyze_beam(L, W1, W2, x)\n",
        "\n",
        "    # Display output\n",
        "    print(\"\\n----- Output -----\")\n",
        "    print(f\"Maximum Reaction at A: {results['Maximum Reaction at A (kN)']} kN\")\n",
        "    print(f\"Maximum Reaction at B: {results['Maximum Reaction at B (kN)']} kN\")\n",
        "    print(f\"Bending Moment BM_01: {results['Bending Moment BM_01 (kNm)']} kNm\")\n",
        "    print(f\"Shear Force SF_01: {results['Shear Force SF_01 (kN)']} kN\")\n",
        "    print(f\"Maximum Shear Force SF_max: {results['Maximum Shear Force SF_max (kN)']} kN\")\n",
        "    print(f\"Maximum Bending Moment BM_max: {results['Maximum Bending Moment BM_max (kNm)']} kNm\")"
      ],
      "cell_type": "code",
      "metadata": {
        "colab": {
          "base_uri": "https://localhost:8080/"
        },
        "id": "ZFTpemvF-YgO",
        "outputId": "32182efa-4d73-4f24-af33-2129656c8d8c"
      },
      "execution_count": 23,
      "outputs": [
        {
          "output_type": "stream",
          "name": "stdout",
          "text": [
            "Simply Supported Beam - Moving Load Analysis\n",
            "Enter beam length (m): 10\n",
            "Enter load W1 (kN): 5\n",
            "Enter load W2 (kN): 7\n",
            "Enter distance between W1 and W2 (m): 2\n",
            "\n",
            "----- Output -----\n",
            "Maximum Reaction at A: 10.6 kN\n",
            "Maximum Reaction at B: 11.0 kN\n",
            "Bending Moment BM_01: 0 kNm\n",
            "Shear Force SF_01: 0.8 kN\n",
            "Maximum Shear Force SF_max: 4.6 kN\n",
            "Maximum Bending Moment BM_max: 25.0 kNm\n"
          ]
        }
      ]
    }
  ]
}